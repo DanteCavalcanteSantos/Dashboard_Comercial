{
 "cells": [
  {
   "cell_type": "code",
   "execution_count": 196,
   "metadata": {},
   "outputs": [],
   "source": [
    "import pandas as pd\n",
    "import numpy as np\n",
    "import matplotlib.pyplot as plt\n",
    "import seaborn as sns\n",
    "from statsmodels.tsa.holtwinters import SimpleExpSmoothing\n"
   ]
  },
  {
   "cell_type": "code",
   "execution_count": 197,
   "metadata": {},
   "outputs": [
    {
     "name": "stdout",
     "output_type": "stream",
     "text": [
      "   Unnamed: 0   ID-Produto             Produto         Categoria     Segmento  \\\n",
      "0           0  SKU-0000002    Geladeira Duplex  Eletrodomésticos    Doméstico   \n",
      "1           1  SKU-0000040  Notebook Dell 8 GB       Eletrônicos  Corporativo   \n",
      "2           2  SKU-0000064         Micro-Ondas  Eletrodomésticos   Industrial   \n",
      "3           3  SKU-0000041  Notebook Dell 8 GB       Eletrônicos  Corporativo   \n",
      "4           4  SKU-0000065               Grill  Eletrodomésticos    Doméstico   \n",
      "\n",
      "  Fabricante    Loja          Cidade          Estado          Vendedor  \\\n",
      "0   Brastemp  SP8821       São Paulo       São Paulo      Josias Silva   \n",
      "1       Dell   R1296  Rio de Janeiro  Rio de Janeiro      Aline Sutter   \n",
      "2     Consul  SP8823       São Paulo       São Paulo  Mateus Gonçalves   \n",
      "3       Dell   R1296  Rio de Janeiro  Rio de Janeiro      Ana Teixeira   \n",
      "4  Panasonic  SP8823       São Paulo       São Paulo     Artur Moreira   \n",
      "\n",
      "   ID-Vendedor  Comissão (Percentual)  Data Venda  ValorVenda  Custo  \\\n",
      "0         1006                      3  2012-01-02      832.00  712.0   \n",
      "1         1008                      3  2012-01-03     1345.87  120.0   \n",
      "2         1003                      2  2012-01-04      459.00  120.0   \n",
      "3         1009                      2  2012-02-01     1234.12  120.0   \n",
      "4         1004                      2  2012-02-01      234.00  120.0   \n",
      "\n",
      "   Satisfação Cliente  \n",
      "0                   3  \n",
      "1                   4  \n",
      "2                   5  \n",
      "3                   3  \n",
      "4                   5  \n"
     ]
    }
   ],
   "source": [
    "dados = pd.read_csv('base_dados.csv')\n",
    "df = pd.DataFrame(dados)\n",
    "\n",
    "print(df.head())"
   ]
  },
  {
   "cell_type": "code",
   "execution_count": 198,
   "metadata": {},
   "outputs": [
    {
     "name": "stdout",
     "output_type": "stream",
     "text": [
      "Unnamed: 0               0\n",
      "ID-Produto               0\n",
      "Produto                  0\n",
      "Categoria                0\n",
      "Segmento                 0\n",
      "Fabricante               0\n",
      "Loja                     0\n",
      "Cidade                   0\n",
      "Estado                   0\n",
      "Vendedor                 0\n",
      "ID-Vendedor              0\n",
      "Comissão (Percentual)    0\n",
      "Data Venda               0\n",
      "ValorVenda               0\n",
      "Custo                    0\n",
      "Satisfação Cliente       0\n",
      "dtype: int64\n",
      "Index(['Unnamed: 0', 'ID-Produto', 'Produto', 'Categoria', 'Segmento',\n",
      "       'Fabricante', 'Loja', 'Cidade', 'Estado', 'Vendedor', 'ID-Vendedor',\n",
      "       'Comissão (Percentual)', 'Data Venda', 'ValorVenda', 'Custo',\n",
      "       'Satisfação Cliente'],\n",
      "      dtype='object')\n",
      "(457, 16)\n"
     ]
    }
   ],
   "source": [
    "#Análise exploratória\n",
    "\n",
    "#Verificando se existe valores ausentes\n",
    "\n",
    "valores_ausentes = df.isnull().sum()\n",
    "print(valores_ausentes)\n",
    "\n",
    "colunas = df.columns\n",
    "print(colunas)\n",
    "print(df.shape)\n"
   ]
  },
  {
   "cell_type": "code",
   "execution_count": 199,
   "metadata": {},
   "outputs": [
    {
     "name": "stdout",
     "output_type": "stream",
     "text": [
      "0      False\n",
      "1      False\n",
      "2      False\n",
      "3      False\n",
      "4      False\n",
      "       ...  \n",
      "452    False\n",
      "453    False\n",
      "454    False\n",
      "455    False\n",
      "456    False\n",
      "Length: 457, dtype: bool\n"
     ]
    }
   ],
   "source": [
    "#Não existe valores duplicados\n",
    "valores_duplicados = df.duplicated()\n",
    "\n",
    "print(valores_duplicados)"
   ]
  },
  {
   "cell_type": "code",
   "execution_count": 200,
   "metadata": {},
   "outputs": [
    {
     "name": "stdout",
     "output_type": "stream",
     "text": [
      "Unnamed: 0                 int64\n",
      "ID-Produto                object\n",
      "Produto                   object\n",
      "Categoria                 object\n",
      "Segmento                  object\n",
      "Fabricante                object\n",
      "Loja                      object\n",
      "Cidade                    object\n",
      "Estado                    object\n",
      "Vendedor                  object\n",
      "ID-Vendedor                int64\n",
      "Comissão (Percentual)      int64\n",
      "Data Venda                object\n",
      "ValorVenda               float64\n",
      "Custo                    float64\n",
      "Satisfação Cliente         int64\n",
      "dtype: object\n"
     ]
    }
   ],
   "source": [
    "#Verificação dos tipos dos dados\n",
    "print(df.dtypes)"
   ]
  },
  {
   "cell_type": "code",
   "execution_count": 201,
   "metadata": {},
   "outputs": [
    {
     "name": "stdout",
     "output_type": "stream",
     "text": [
      "Unnamed: 0                        int64\n",
      "ID-Produto                       object\n",
      "Produto                          object\n",
      "Categoria                        object\n",
      "Segmento                         object\n",
      "Fabricante                       object\n",
      "Loja                             object\n",
      "Cidade                           object\n",
      "Estado                           object\n",
      "Vendedor                         object\n",
      "ID-Vendedor                       int64\n",
      "Comissão (Percentual)             int64\n",
      "Data Venda               datetime64[ns]\n",
      "ValorVenda                      float64\n",
      "Custo                           float64\n",
      "Satisfação Cliente                int64\n",
      "dtype: object\n"
     ]
    }
   ],
   "source": [
    "#transformando coluna Data Vendas do tipo Data\n",
    "\n",
    "df['Data Venda'] = pd.to_datetime(df['Data Venda'])\n",
    "\n",
    "print(df.dtypes)"
   ]
  },
  {
   "cell_type": "code",
   "execution_count": 202,
   "metadata": {},
   "outputs": [
    {
     "name": "stdout",
     "output_type": "stream",
     "text": [
      "       Unnamed: 0  ID-Vendedor  Comissão (Percentual)  \\\n",
      "count      457.00       457.00                 457.00   \n",
      "mean       228.00      1004.09                   2.14   \n",
      "min          0.00      1001.00                   2.00   \n",
      "25%        114.00      1002.00                   2.00   \n",
      "50%        228.00      1004.00                   2.00   \n",
      "75%        342.00      1006.00                   2.00   \n",
      "max        456.00      1009.00                   6.00   \n",
      "std        132.07         2.46                   0.57   \n",
      "\n",
      "                          Data Venda  ValorVenda   Custo  Satisfação Cliente  \n",
      "count                            457      457.00  457.00              457.00  \n",
      "mean   2014-07-15 22:28:37.286652160      786.23  132.75                3.07  \n",
      "min              2012-01-02 00:00:00       12.00   90.00                1.00  \n",
      "25%              2013-08-02 00:00:00      167.00  120.00                2.00  \n",
      "50%              2014-12-04 00:00:00      671.00  120.00                3.00  \n",
      "75%              2015-06-02 00:00:00     1230.00  120.00                4.00  \n",
      "max              2015-12-02 00:00:00     3999.00  800.00                5.00  \n",
      "std                              NaN      754.38   83.52                1.38  \n"
     ]
    }
   ],
   "source": [
    "#Distribuição dos dados\n",
    "#resumo estatístico\n",
    "descricao = df.describe().round(2)\n",
    "\n",
    "print(descricao)"
   ]
  },
  {
   "cell_type": "code",
   "execution_count": 203,
   "metadata": {},
   "outputs": [
    {
     "name": "stdout",
     "output_type": "stream",
     "text": [
      "0       832.00\n",
      "1      1345.87\n",
      "2       459.00\n",
      "3      1234.12\n",
      "4       234.00\n",
      "        ...   \n",
      "452     455.00\n",
      "453     149.00\n",
      "454     121.00\n",
      "455     346.00\n",
      "456     134.00\n",
      "Name: ValorVenda, Length: 457, dtype: float64\n",
      "0      712.0\n",
      "1      120.0\n",
      "2      120.0\n",
      "3      120.0\n",
      "4      120.0\n",
      "       ...  \n",
      "452    120.0\n",
      "453    120.0\n",
      "454    120.0\n",
      "455    120.0\n",
      "456    120.0\n",
      "Name: Custo, Length: 457, dtype: float64\n"
     ]
    }
   ],
   "source": [
    "#verificando tabela valor venda e custo\n",
    "\n",
    "coluna_valor_venda = df['ValorVenda']\n",
    "coluna_valor_custo = df['Custo']\n",
    "\n",
    "print(coluna_valor_venda)\n",
    "print(coluna_valor_custo)"
   ]
  },
  {
   "cell_type": "code",
   "execution_count": 204,
   "metadata": {},
   "outputs": [
    {
     "name": "stdout",
     "output_type": "stream",
     "text": [
      "0       832.00\n",
      "1      1345.87\n",
      "2       459.00\n",
      "3      1234.12\n",
      "4       234.00\n",
      "        ...   \n",
      "452     455.00\n",
      "453     149.00\n",
      "454     121.00\n",
      "455     346.00\n",
      "456     134.00\n",
      "Name: ValorVenda, Length: 457, dtype: float64\n"
     ]
    }
   ],
   "source": [
    "'''df['ValorVenda'] = (\n",
    "    df['ValorVenda']\n",
    "    .str.strip() \n",
    "    .str.replace('$', '', regex=False)\n",
    "    .str.replace('.', '', regex=False)  # Remove separadores de milhar\n",
    "    .str.replace(',', '.', regex=False)  # Substitui a vírgula por ponto\n",
    ")\n",
    "'''\n",
    "\n",
    "print(df['ValorVenda'])"
   ]
  },
  {
   "cell_type": "code",
   "execution_count": 205,
   "metadata": {},
   "outputs": [
    {
     "name": "stdout",
     "output_type": "stream",
     "text": [
      "object\n"
     ]
    }
   ],
   "source": [
    "df['ValorVenda'] = df['ValorVenda'].astype(float).map('{:.2f}'.format)\n",
    "\n",
    "print(df['ValorVenda'].dtype)\n",
    "\n",
    "\n"
   ]
  },
  {
   "cell_type": "code",
   "execution_count": 206,
   "metadata": {},
   "outputs": [
    {
     "name": "stdout",
     "output_type": "stream",
     "text": [
      "0       832.00\n",
      "1      1345.87\n",
      "2       459.00\n",
      "3      1234.12\n",
      "4       234.00\n",
      "        ...   \n",
      "452     455.00\n",
      "453     149.00\n",
      "454     121.00\n",
      "455     346.00\n",
      "456     134.00\n",
      "Name: ValorVenda, Length: 457, dtype: object\n"
     ]
    }
   ],
   "source": [
    "print(df['ValorVenda'])"
   ]
  },
  {
   "cell_type": "code",
   "execution_count": 207,
   "metadata": {},
   "outputs": [
    {
     "data": {
      "text/plain": [
       "\"\\n\\ndf['Custo'] = (\\n    df['Custo']\\n    .str.strip()  # Remove espaços em branco\\n    .str.replace('$', '', regex=False)  # Remove o símbolo de dólar\\n    .str.replace('.', '', regex=False)  # Remove separadores de milhar, se houver\\n    .str.replace(',', '.', regex=False)  # Substitui a vírgula por ponto\\n).astype(float)\\n\""
      ]
     },
     "execution_count": 207,
     "metadata": {},
     "output_type": "execute_result"
    }
   ],
   "source": [
    "'''\n",
    "\n",
    "df['Custo'] = (\n",
    "    df['Custo']\n",
    "    .str.strip()  # Remove espaços em branco\n",
    "    .str.replace('$', '', regex=False)  # Remove o símbolo de dólar\n",
    "    .str.replace('.', '', regex=False)  # Remove separadores de milhar, se houver\n",
    "    .str.replace(',', '.', regex=False)  # Substitui a vírgula por ponto\n",
    ").astype(float)\n",
    "'''\n"
   ]
  },
  {
   "cell_type": "code",
   "execution_count": 208,
   "metadata": {},
   "outputs": [
    {
     "name": "stdout",
     "output_type": "stream",
     "text": [
      "0      712.0\n",
      "1      120.0\n",
      "2      120.0\n",
      "3      120.0\n",
      "4      120.0\n",
      "       ...  \n",
      "452    120.0\n",
      "453    120.0\n",
      "454    120.0\n",
      "455    120.0\n",
      "456    120.0\n",
      "Name: Custo, Length: 457, dtype: float64\n"
     ]
    }
   ],
   "source": [
    "# Converter para float\n",
    "df['Custo'] = df['Custo'].astype(float)\n",
    "\n",
    "print(df['Custo'])"
   ]
  },
  {
   "cell_type": "code",
   "execution_count": 209,
   "metadata": {},
   "outputs": [],
   "source": [
    "#df['Liquido'] = df['ValorVenda'] - df['Custo']\n",
    "#df['Liquido'] = df['Liquido'].round(2)"
   ]
  },
  {
   "cell_type": "code",
   "execution_count": 210,
   "metadata": {},
   "outputs": [],
   "source": [
    "#gera_arquivo = df.to_csv('base_dados.csv')"
   ]
  },
  {
   "cell_type": "code",
   "execution_count": 213,
   "metadata": {},
   "outputs": [
    {
     "name": "stdout",
     "output_type": "stream",
     "text": [
      "Unnamed: 0                        int64\n",
      "ID-Produto                       object\n",
      "Produto                          object\n",
      "Categoria                        object\n",
      "Segmento                         object\n",
      "Fabricante                       object\n",
      "Loja                             object\n",
      "Cidade                           object\n",
      "Estado                           object\n",
      "Vendedor                         object\n",
      "ID-Vendedor                       int64\n",
      "Comissão (Percentual)             int64\n",
      "Data Venda               datetime64[ns]\n",
      "ValorVenda                       object\n",
      "Custo                           float64\n",
      "Satisfação Cliente                int64\n",
      "dtype: object\n"
     ]
    }
   ],
   "source": [
    "print(df.dtypes)"
   ]
  },
  {
   "cell_type": "code",
   "execution_count": 211,
   "metadata": {},
   "outputs": [],
   "source": [
    "#Trabalhando com comissão\n",
    "\n",
    "def comissao(valor):\n",
    "    comissoes = {\n",
    "        2: 0.5,\n",
    "        3: 0.10,\n",
    "        4: 0.15,\n",
    "        5: 0.20,\n",
    "        6: 0.25\n",
    "    }\n",
    "    return valor + comissoes.get(valor, 0)  # Retorna 0 se valor não estiver no dicionário"
   ]
  },
  {
   "cell_type": "code",
   "execution_count": 212,
   "metadata": {},
   "outputs": [
    {
     "ename": "TypeError",
     "evalue": "can only concatenate str (not \"int\") to str",
     "output_type": "error",
     "traceback": [
      "\u001b[1;31m---------------------------------------------------------------------------\u001b[0m",
      "\u001b[1;31mTypeError\u001b[0m                                 Traceback (most recent call last)",
      "\u001b[1;32m~\\AppData\\Local\\Temp\\ipykernel_16080\\1142556952.py\u001b[0m in \u001b[0;36m<module>\u001b[1;34m\u001b[0m\n\u001b[1;32m----> 1\u001b[1;33m \u001b[0mdf\u001b[0m\u001b[1;33m[\u001b[0m\u001b[1;34m'Valor_Comissao'\u001b[0m\u001b[1;33m]\u001b[0m \u001b[1;33m=\u001b[0m \u001b[0mdf\u001b[0m\u001b[1;33m[\u001b[0m\u001b[1;34m'ValorVenda'\u001b[0m\u001b[1;33m]\u001b[0m\u001b[1;33m.\u001b[0m\u001b[0mapply\u001b[0m\u001b[1;33m(\u001b[0m\u001b[0mcomissao\u001b[0m\u001b[1;33m)\u001b[0m\u001b[1;33m\u001b[0m\u001b[1;33m\u001b[0m\u001b[0m\n\u001b[0m",
      "\u001b[1;32mc:\\Users\\dante\\anaconda3\\lib\\site-packages\\pandas\\core\\series.py\u001b[0m in \u001b[0;36mapply\u001b[1;34m(self, func, convert_dtype, args, by_row, **kwargs)\u001b[0m\n\u001b[0;32m   4915\u001b[0m         \u001b[0mdtype\u001b[0m\u001b[1;33m:\u001b[0m \u001b[0mfloat64\u001b[0m\u001b[1;33m\u001b[0m\u001b[1;33m\u001b[0m\u001b[0m\n\u001b[0;32m   4916\u001b[0m         \"\"\"\n\u001b[1;32m-> 4917\u001b[1;33m         return SeriesApply(\n\u001b[0m\u001b[0;32m   4918\u001b[0m             \u001b[0mself\u001b[0m\u001b[1;33m,\u001b[0m\u001b[1;33m\u001b[0m\u001b[1;33m\u001b[0m\u001b[0m\n\u001b[0;32m   4919\u001b[0m             \u001b[0mfunc\u001b[0m\u001b[1;33m,\u001b[0m\u001b[1;33m\u001b[0m\u001b[1;33m\u001b[0m\u001b[0m\n",
      "\u001b[1;32mc:\\Users\\dante\\anaconda3\\lib\\site-packages\\pandas\\core\\apply.py\u001b[0m in \u001b[0;36mapply\u001b[1;34m(self)\u001b[0m\n\u001b[0;32m   1425\u001b[0m \u001b[1;33m\u001b[0m\u001b[0m\n\u001b[0;32m   1426\u001b[0m         \u001b[1;31m# self.func is Callable\u001b[0m\u001b[1;33m\u001b[0m\u001b[1;33m\u001b[0m\u001b[0m\n\u001b[1;32m-> 1427\u001b[1;33m         \u001b[1;32mreturn\u001b[0m \u001b[0mself\u001b[0m\u001b[1;33m.\u001b[0m\u001b[0mapply_standard\u001b[0m\u001b[1;33m(\u001b[0m\u001b[1;33m)\u001b[0m\u001b[1;33m\u001b[0m\u001b[1;33m\u001b[0m\u001b[0m\n\u001b[0m\u001b[0;32m   1428\u001b[0m \u001b[1;33m\u001b[0m\u001b[0m\n\u001b[0;32m   1429\u001b[0m     \u001b[1;32mdef\u001b[0m \u001b[0magg\u001b[0m\u001b[1;33m(\u001b[0m\u001b[0mself\u001b[0m\u001b[1;33m)\u001b[0m\u001b[1;33m:\u001b[0m\u001b[1;33m\u001b[0m\u001b[1;33m\u001b[0m\u001b[0m\n",
      "\u001b[1;32mc:\\Users\\dante\\anaconda3\\lib\\site-packages\\pandas\\core\\apply.py\u001b[0m in \u001b[0;36mapply_standard\u001b[1;34m(self)\u001b[0m\n\u001b[0;32m   1505\u001b[0m         \u001b[1;31m#  Categorical (GH51645).\u001b[0m\u001b[1;33m\u001b[0m\u001b[1;33m\u001b[0m\u001b[0m\n\u001b[0;32m   1506\u001b[0m         \u001b[0maction\u001b[0m \u001b[1;33m=\u001b[0m \u001b[1;34m\"ignore\"\u001b[0m \u001b[1;32mif\u001b[0m \u001b[0misinstance\u001b[0m\u001b[1;33m(\u001b[0m\u001b[0mobj\u001b[0m\u001b[1;33m.\u001b[0m\u001b[0mdtype\u001b[0m\u001b[1;33m,\u001b[0m \u001b[0mCategoricalDtype\u001b[0m\u001b[1;33m)\u001b[0m \u001b[1;32melse\u001b[0m \u001b[1;32mNone\u001b[0m\u001b[1;33m\u001b[0m\u001b[1;33m\u001b[0m\u001b[0m\n\u001b[1;32m-> 1507\u001b[1;33m         mapped = obj._map_values(\n\u001b[0m\u001b[0;32m   1508\u001b[0m             \u001b[0mmapper\u001b[0m\u001b[1;33m=\u001b[0m\u001b[0mcurried\u001b[0m\u001b[1;33m,\u001b[0m \u001b[0mna_action\u001b[0m\u001b[1;33m=\u001b[0m\u001b[0maction\u001b[0m\u001b[1;33m,\u001b[0m \u001b[0mconvert\u001b[0m\u001b[1;33m=\u001b[0m\u001b[0mself\u001b[0m\u001b[1;33m.\u001b[0m\u001b[0mconvert_dtype\u001b[0m\u001b[1;33m\u001b[0m\u001b[1;33m\u001b[0m\u001b[0m\n\u001b[0;32m   1509\u001b[0m         )\n",
      "\u001b[1;32mc:\\Users\\dante\\anaconda3\\lib\\site-packages\\pandas\\core\\base.py\u001b[0m in \u001b[0;36m_map_values\u001b[1;34m(self, mapper, na_action, convert)\u001b[0m\n\u001b[0;32m    919\u001b[0m             \u001b[1;32mreturn\u001b[0m \u001b[0marr\u001b[0m\u001b[1;33m.\u001b[0m\u001b[0mmap\u001b[0m\u001b[1;33m(\u001b[0m\u001b[0mmapper\u001b[0m\u001b[1;33m,\u001b[0m \u001b[0mna_action\u001b[0m\u001b[1;33m=\u001b[0m\u001b[0mna_action\u001b[0m\u001b[1;33m)\u001b[0m\u001b[1;33m\u001b[0m\u001b[1;33m\u001b[0m\u001b[0m\n\u001b[0;32m    920\u001b[0m \u001b[1;33m\u001b[0m\u001b[0m\n\u001b[1;32m--> 921\u001b[1;33m         \u001b[1;32mreturn\u001b[0m \u001b[0malgorithms\u001b[0m\u001b[1;33m.\u001b[0m\u001b[0mmap_array\u001b[0m\u001b[1;33m(\u001b[0m\u001b[0marr\u001b[0m\u001b[1;33m,\u001b[0m \u001b[0mmapper\u001b[0m\u001b[1;33m,\u001b[0m \u001b[0mna_action\u001b[0m\u001b[1;33m=\u001b[0m\u001b[0mna_action\u001b[0m\u001b[1;33m,\u001b[0m \u001b[0mconvert\u001b[0m\u001b[1;33m=\u001b[0m\u001b[0mconvert\u001b[0m\u001b[1;33m)\u001b[0m\u001b[1;33m\u001b[0m\u001b[1;33m\u001b[0m\u001b[0m\n\u001b[0m\u001b[0;32m    922\u001b[0m \u001b[1;33m\u001b[0m\u001b[0m\n\u001b[0;32m    923\u001b[0m     \u001b[1;33m@\u001b[0m\u001b[0mfinal\u001b[0m\u001b[1;33m\u001b[0m\u001b[1;33m\u001b[0m\u001b[0m\n",
      "\u001b[1;32mc:\\Users\\dante\\anaconda3\\lib\\site-packages\\pandas\\core\\algorithms.py\u001b[0m in \u001b[0;36mmap_array\u001b[1;34m(arr, mapper, na_action, convert)\u001b[0m\n\u001b[0;32m   1741\u001b[0m     \u001b[0mvalues\u001b[0m \u001b[1;33m=\u001b[0m \u001b[0marr\u001b[0m\u001b[1;33m.\u001b[0m\u001b[0mastype\u001b[0m\u001b[1;33m(\u001b[0m\u001b[0mobject\u001b[0m\u001b[1;33m,\u001b[0m \u001b[0mcopy\u001b[0m\u001b[1;33m=\u001b[0m\u001b[1;32mFalse\u001b[0m\u001b[1;33m)\u001b[0m\u001b[1;33m\u001b[0m\u001b[1;33m\u001b[0m\u001b[0m\n\u001b[0;32m   1742\u001b[0m     \u001b[1;32mif\u001b[0m \u001b[0mna_action\u001b[0m \u001b[1;32mis\u001b[0m \u001b[1;32mNone\u001b[0m\u001b[1;33m:\u001b[0m\u001b[1;33m\u001b[0m\u001b[1;33m\u001b[0m\u001b[0m\n\u001b[1;32m-> 1743\u001b[1;33m         \u001b[1;32mreturn\u001b[0m \u001b[0mlib\u001b[0m\u001b[1;33m.\u001b[0m\u001b[0mmap_infer\u001b[0m\u001b[1;33m(\u001b[0m\u001b[0mvalues\u001b[0m\u001b[1;33m,\u001b[0m \u001b[0mmapper\u001b[0m\u001b[1;33m,\u001b[0m \u001b[0mconvert\u001b[0m\u001b[1;33m=\u001b[0m\u001b[0mconvert\u001b[0m\u001b[1;33m)\u001b[0m\u001b[1;33m\u001b[0m\u001b[1;33m\u001b[0m\u001b[0m\n\u001b[0m\u001b[0;32m   1744\u001b[0m     \u001b[1;32melse\u001b[0m\u001b[1;33m:\u001b[0m\u001b[1;33m\u001b[0m\u001b[1;33m\u001b[0m\u001b[0m\n\u001b[0;32m   1745\u001b[0m         return lib.map_infer_mask(\n",
      "\u001b[1;32mlib.pyx\u001b[0m in \u001b[0;36mpandas._libs.lib.map_infer\u001b[1;34m()\u001b[0m\n",
      "\u001b[1;32m~\\AppData\\Local\\Temp\\ipykernel_16080\\3763233082.py\u001b[0m in \u001b[0;36mcomissao\u001b[1;34m(valor)\u001b[0m\n\u001b[0;32m      9\u001b[0m         \u001b[1;36m6\u001b[0m\u001b[1;33m:\u001b[0m \u001b[1;36m0.25\u001b[0m\u001b[1;33m\u001b[0m\u001b[1;33m\u001b[0m\u001b[0m\n\u001b[0;32m     10\u001b[0m     }\n\u001b[1;32m---> 11\u001b[1;33m     \u001b[1;32mreturn\u001b[0m \u001b[0mvalor\u001b[0m \u001b[1;33m+\u001b[0m \u001b[0mcomissoes\u001b[0m\u001b[1;33m.\u001b[0m\u001b[0mget\u001b[0m\u001b[1;33m(\u001b[0m\u001b[0mvalor\u001b[0m\u001b[1;33m,\u001b[0m \u001b[1;36m0\u001b[0m\u001b[1;33m)\u001b[0m  \u001b[1;31m# Retorna 0 se valor não estiver no dicionário\u001b[0m\u001b[1;33m\u001b[0m\u001b[1;33m\u001b[0m\u001b[0m\n\u001b[0m",
      "\u001b[1;31mTypeError\u001b[0m: can only concatenate str (not \"int\") to str"
     ]
    }
   ],
   "source": [
    "df['Valor_Comissao'] = df['ValorVenda'].apply(comissao)"
   ]
  },
  {
   "cell_type": "code",
   "execution_count": null,
   "metadata": {},
   "outputs": [],
   "source": [
    "print(df['Valor_Comissao'])"
   ]
  }
 ],
 "metadata": {
  "kernelspec": {
   "display_name": "base",
   "language": "python",
   "name": "python3"
  },
  "language_info": {
   "codemirror_mode": {
    "name": "ipython",
    "version": 3
   },
   "file_extension": ".py",
   "mimetype": "text/x-python",
   "name": "python",
   "nbconvert_exporter": "python",
   "pygments_lexer": "ipython3",
   "version": "3.9.13"
  }
 },
 "nbformat": 4,
 "nbformat_minor": 2
}
